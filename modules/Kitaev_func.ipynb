{
 "cells": [
  {
   "cell_type": "markdown",
   "id": "f2174bfd-69c5-4a72-b7e8-2859f680d988",
   "metadata": {},
   "source": [
    "# Building Spin-Liqud in Python"
   ]
  },
  {
   "cell_type": "markdown",
   "id": "b79adc3f-fc38-487d-96d2-7572cd2caad5",
   "metadata": {},
   "source": [
    "## Libraries"
   ]
  },
  {
   "cell_type": "code",
   "execution_count": 3,
   "id": "92e61014-6520-428e-8ee2-08af1eb16750",
   "metadata": {},
   "outputs": [],
   "source": [
    "from quspin.operators import hamiltonian,quantum_operator # operators\n",
    "from quspin.basis import spin_basis_general # spin basis constructor\n",
    "import numpy as np # general math functions"
   ]
  },
  {
   "cell_type": "markdown",
   "id": "ec8b4a40-976a-4e9b-b327-b62b4536bf8a",
   "metadata": {},
   "source": [
    "## Parameters, basis and symmetries"
   ]
  },
  {
   "cell_type": "code",
   "execution_count": 27,
   "id": "a2374fcc-61a1-4590-a93b-4c50ae1e5bba",
   "metadata": {},
   "outputs": [],
   "source": [
    "Lx, Ly = 5, 2# linear dimension of spin 1 2d lattice\n",
    "N2d = Lx*Ly  #number of sites for spin 1/2\n",
    "basis = spin_basis_general(N2d,pauli=0)\n",
    "no_checks = dict(check_symm=False,check_herm=False,check_pcon=False)"
   ]
  },
  {
   "cell_type": "code",
   "execution_count": 168,
   "id": "33d04e5f-415d-462f-b47c-a739cdfa3201",
   "metadata": {},
   "outputs": [
    {
     "data": {
      "text/plain": [
       "10.0"
      ]
     },
     "execution_count": 168,
     "metadata": {},
     "output_type": "execute_result"
    }
   ],
   "source": [
    "#(np.zeros([3,3]) != 0).any()\n",
    "spin_basis_general(N2d)\n",
    "600/60"
   ]
  },
  {
   "cell_type": "markdown",
   "id": "b9ffb366-d490-4e77-88d7-1d528a082e3d",
   "metadata": {},
   "source": [
    "## Hamiltonian"
   ]
  },
  {
   "cell_type": "code",
   "execution_count": 20,
   "id": "12186f0e-3d98-40e5-820e-d40c1894d85a",
   "metadata": {},
   "outputs": [],
   "source": [
    "def Kitaev_H(alpha = 1, S = None , Js = [1.0,1.0,1.0], J_coup = -1.0 ):\n",
    "    ''' This function computes the hamiltonian of the Kitaev model coupled \n",
    "     to a general localized potentials.The kitaev model by default have a\n",
    "     size of 5x2, it can be generalized later\n",
    "    Args:\n",
    "    ----\n",
    "    alpha : 1D float, optional \n",
    "    This parameter in the kitaev Hamiltonian, it determines the phase \n",
    "    \n",
    "    S : dictionary \n",
    "    Contains the local potential to be coupled to each one of the\n",
    "    spin operators. \n",
    "    \n",
    "    Js: 1D array of floats\n",
    "    Contains the coupling between each one of the spin components, e.g.\n",
    "    Js=[J_x, J_y, J_z] -> H = J_xS_x S_x + J_yS_yS_y ....\n",
    "    j_coup: is the strenght between between the system and the locali_\n",
    "    zed potentials \n",
    "    '''\n",
    "    # Couplings between spin \n",
    "    Jxx,Jyy,Jzz = Js\n",
    "    # Dictionary that contains the elements \n",
    "    sigma_i = S\n",
    "    # Configugarion 5x2 npbc\n",
    "    J_yy = [[Jyy,0,1],[Jyy,2,3],[Jyy,6,7],[Jyy,8,9]]\n",
    "    J_xx = [[Jxx,1,2],[Jxx,3,4],[Jxx,5,6],[Jxx,7,8]]\n",
    "    J_zz = [[Jzz,5,0],[Jzz,2,7],[Jzz,4,9]]\n",
    "    # if S is not None:          \n",
    "    #     J_x = [ [sigma_i[f'Sigma_x_{1}']  ,    6], [sigma_i[f'Sigma_x_{2}']  ,    7]  , [sigma_i[f'Sigma_x_{3}']  ,    8]           ]\n",
    "    #     J_y = [ [sigma_i[f'Sigma_y_{1}']  ,    6], [sigma_i[f'Sigma_y_{2}']  ,    7]  , [sigma_i[f'Sigma_y_{3}']  ,    8]           ]\n",
    "    #     J_z = [ [sigma_i[f'Sigma_z_{1}']  ,    6], [sigma_i[f'Sigma_z_{2}']  ,    7]  , [sigma_i[f'Sigma_z_{3}']  ,    8]           ]\n",
    "    #     operator_list_3 = [[\"z\", J_z  ], ['x', J_x  ],  ['y', J_y  ]    ]\n",
    "    # Kitaev elements of the couplings\n",
    "    operator_list_0 = [[\"zz\",J_zz],[\"yy\",J_yy],[\"xx\",J_xx]]\n",
    "    # Contain the Heinsenberg elements of each coupling \n",
    "    operator_list_1 = [[\"xx\",J_zz],[\"yy\",J_zz],\n",
    "                      [\"xx\",J_yy],[\"zz\",J_yy],\n",
    "                      [\"yy\",J_xx],[\"zz\",J_xx]]\n",
    "    # if S is not None:\n",
    "    #     # Operators to be used\n",
    "    #     operator_dict = dict(H0=operator_list_0,H1=operator_list_1,Hcoup=operator_list_3)        \n",
    "    #     # Parameters that acompains each operator \n",
    "    #     params_dict = dict(H0 = np.sin(alpha)+np.cos(alpha)\n",
    "    #                      ,H1 = np.cos(alpha), Hcoup = J_coup)        \n",
    "    # else:     \n",
    "    operator_dict = dict(H0=operator_list_0,H1 = operator_list_1)\n",
    "    params_dict = dict(H0=np.sin(alpha)+np.cos(alpha),H1=np.cos(alpha))\n",
    "    # Build the hamiltonian in quspin form \n",
    "    H = quantum_operator(operator_dict,basis=basis,**no_checks).tohamiltonian(params_dict)\n",
    "    # Put the parameters in the hamiltonian \n",
    "    H_1 = H.tohamiltonian(params_dict)\n",
    "    return  H_1     "
   ]
  },
  {
   "cell_type": "code",
   "execution_count": 21,
   "id": "950d768d-03e7-4712-b07c-2c27c2f6415f",
   "metadata": {},
   "outputs": [],
   "source": [
    "#E_GS, psi_GS = Hamiltonian()\n",
    "\n",
    "def spin_op(basis=basis, sites=(0,1) ): \n",
    "    site1,site2=sites\n",
    "    sigma = [['zz', [[1.0, site1,site2]]] ,\n",
    "             ['yy', [[1.0, site1,site2]]],\n",
    "             ['xx', [[1.0, site1,site2]]]]\n",
    "    return hamiltonian(sigma,dynamic,\n",
    "                       dtype=np.float64,basis=basis,**no_checks)\n",
    "def spin_op_z(basis = basis,sites = 1 ):#sites=(0,1) ):\n",
    "    site1 = sites\n",
    "    sigma = [['z', [[1.0, site1]]] ]\n",
    "    return hamiltonian(sigma,dynamic,\n",
    "                       dtype=np.complex128,basis=basis,**no_checks)\n",
    "def spin_op_x(basis=basis, sites=1 ):\n",
    "    site1=sites\n",
    "    sigma = [['x', [[1.0, site1]]] ]\n",
    "    return hamiltonian(sigma,dynamic,\n",
    "                       dtype=np.complex128,basis=basis,**no_checks)\n",
    "def spin_op_y(basis=basis, sites=1 ):\n",
    "    site1=sites\n",
    "    sigma = [['y', [[1.0, site1]]   ]   ] \n",
    "    return hamiltonian(sigma,dynamic,\n",
    "                       dtype=np.complex128,basis=basis,**no_checks)\n",
    "def Kitaev_correlations(eve):\n",
    "    correlations=[]\n",
    "    correlation1=spin_op(sites=(3,2) ).expt_value(eve,check=False)\n",
    "    correlation2=spin_op(sites=(1,2) ).expt_value(eve,check=False)\n",
    "    correlation3=spin_op(sites=(7,2) ).expt_value(eve,check=False)\n",
    "    correlation=correlation1+correlation2+correlation3\n",
    "    #print('step')\n",
    "    return correlation"
   ]
  },
  {
   "cell_type": "code",
   "execution_count": 154,
   "id": "10172463-ca98-430e-b62d-8d01b97d4c09",
   "metadata": {},
   "outputs": [],
   "source": [
    "Lx, Ly = 5, 2# linear dimension of spin 1 2d lattice\n",
    "N2d = Lx*Ly  #number of sites for spin 1/2\n",
    "basis = spin_basis_general(N2d,pauli=1)\n",
    "no_checks = dict(check_symm=False,check_herm=False,check_pcon=False)\n",
    "HBAR = 0.658211928e0\n",
    "### Hamiltonian\n",
    "def Kitaev_H(alpha = 1, S = np.zeros([3,3]) , Js = [1.0,1.0,1.0], J_coup = 1.0 ):\n",
    "    '''This function computes the hamiltonian of the Kitaev model coupled \n",
    "    to a general localized potentials.The kitaev model by default have a\n",
    "    size of 5x2, it can be generalized later\n",
    "    Args:\n",
    "    ----\n",
    "    alpha : 1D float, optional \n",
    "    This parameter in the kitaev Hamiltonian, it determines the phase \n",
    "    S : dictionary \n",
    "    Contains the local potential to be coupled to each one of the\n",
    "    spin operators. \n",
    "    Js: 1D array of floats\n",
    "    Contains the coupling between each one of the spin components, e.g.\n",
    "    Js=[J_x, J_y, J_z] -> H = J_xS_x S_x + J_yS_yS_y ....\n",
    "    j_coup: is the strenght between between the system and the locali_\n",
    "    zed potentials \n",
    "    '''\n",
    "    ##print(\"join0 \" ,S )\n",
    "    # Couplings between spin \n",
    "    Jxx,Jyy,Jzz = Js                                ### Magnitude of the coupling \n",
    "    # Configugarion 5x2 npbc\n",
    "    J_yy = [[Jyy,0,1],[Jyy,2,3],[Jyy,6,7],[Jyy,8,9]]\n",
    "    J_xx = [[Jxx,1,2],[Jxx,3,4],[Jxx,5,6],[Jxx,7,8]]\n",
    "    J_zz = [[Jzz,5,0],[Jzz,2,7],[Jzz,4,9]]\n",
    "    operator_list_0 = [[\"zz\",J_zz],[\"yy\",J_yy],[\"xx\",J_xx]]\n",
    "    # Contain the Heinsenberg elements of each coupling \n",
    "    J_yxx = [[Jxx,0,1],[Jxx,2,3],[Jxx,6,7],[Jxx,8,9]]\n",
    "    J_yzz = [[Jzz,0,1],[Jzz,2,3],[Jzz,6,7],[Jzz,8,9]]\n",
    "    J_xyy = [[Jyy,1,2],[Jyy,3,4],[Jyy,5,6],[Jyy,7,8]]\n",
    "    J_xzz = [[Jzz,1,2],[Jzz,3,4],[Jzz,5,6],[Jzz,7,8]]\n",
    "    J_zxx = [[Jxx,5,0],[Jxx,2,7],[Jxx,4,9]]\n",
    "    J_zyy = [[Jyy,5,0],[Jyy,2,7],[Jyy,4,9]]\n",
    "    operator_list_1 = [[\"xx\",J_zxx],[\"yy\",J_zyy],\n",
    "                      [\"xx\",J_yxx],[\"zz\",J_yzz],\n",
    "                      [\"yy\",J_xyy],[\"zz\",J_xzz]]\n",
    "    operator_dict = dict(H0=operator_list_0,H1 = operator_list_1)\n",
    "    ### Parameter that controls the HK model \n",
    "    params_dict = dict(H0=np.sin(alpha)+np.cos(alpha),H1=np.cos(alpha))\n",
    "    #(np.zeros([3,3]) !== 0).any()\n",
    "    #[:,1]\n",
    "    # print(\"bool_val :\",(S != 0).any())\n",
    "    if (S != 0.).any() :\n",
    "        ##print(\"join \" ,S )\n",
    "        J_x = [ [S[0,0] , 6], [S[0,1]  , 7], [S[0,2],  8]  ]\n",
    "        J_y = [ [S[1,0] , 6], [S[1,1]  , 7], [S[1,2],  8]  ]\n",
    "        J_z = [ [S[2,0] , 6], [S[2,1]  , 7], [S[2,2],  8]  ]\n",
    "        operator_list_3 = [[\"z\", J_z  ], ['x', J_x  ], ['y', J_y ] ]\n",
    "        operator_dict = dict(H0=operator_list_0,H1=operator_list_1,Hcoup=operator_list_3)\n",
    "        params_dict = dict(H0=np.sin(alpha)+np.cos(alpha),H1=np.cos(alpha), Hcoup = -J_coup)\n",
    "\n",
    "    ##print(operator_dict)\n",
    "    ##print(params_dict)\n",
    "    # Build the hamiltonian in quspin form \n",
    "    H = quantum_operator(operator_dict,basis=basis,dtype=np.complex128,**no_checks)\n",
    "    # Put the parameters in the hamiltonian \n",
    "    H_1 = H.tohamiltonian(params_dict)\n",
    "    return  H_1     \n",
    "\n",
    "### Operators \n",
    "\n",
    "def spin_op(basis=basis, sites=(0,1) ): \n",
    "    site1,site2=sites\n",
    "    sigma = [['zz', [[1.0, site1,site2]]] ,\n",
    "             ['yy', [[1.0, site1,site2]]],\n",
    "             ['xx', [[1.0, site1,site2]]]]\n",
    "    return hamiltonian(sigma,[],\n",
    "                       dtype=np.complex128,basis=basis,**no_checks)\n",
    "def spin_op_z(basis = basis,sites = 1 ):#sites=(0,1) ):\n",
    "    site1 = sites\n",
    "    sigma = [['z', [[1.0, site1]]] ]\n",
    "    return hamiltonian(sigma,[],\n",
    "                       dtype=np.complex128,basis=basis,**no_checks)\n",
    "def spin_op_x(basis=basis, sites=1 ):\n",
    "    site1=sites\n",
    "    sigma = [['x', [[1.0, site1]]] ]\n",
    "    return hamiltonian(sigma,[],\n",
    "                       dtype=np.complex128,basis=basis,**no_checks)\n",
    "def spin_op_y(basis=basis, sites=1 ):\n",
    "    site1=sites\n",
    "    sigma = [['y', [[1.0, site1]]   ]   ] \n",
    "    return hamiltonian(sigma,[],\n",
    "                       dtype=np.complex128,basis=basis,**no_checks)\n",
    "\n",
    "def spindensity_qsl(psi,sites=[5,6,7]):\n",
    "    sden= []\n",
    "    for site in sites:\n",
    "        S_x = spin_op_x(sites = site).expt_value(V = psi)#.toarray()\n",
    "        S_y = spin_op_y(sites = site).expt_value(V = psi)#.toarray()\n",
    "        S_z = spin_op_z(sites = site).expt_value(V = psi)#.toarray()\n",
    "        sden.append([S_x, S_y, S_z])\n",
    "    return sden\n",
    "\n",
    "def Kitaev_correlations(eve):\n",
    "    correlations=[]\n",
    "    correlation1=spin_op(sites=(3,2) ).expt_value(eve,check=False)\n",
    "    correlation2=spin_op(sites=(1,2) ).expt_value(eve,check=False)\n",
    "    correlation3=spin_op(sites=(7,2) ).expt_value(eve,check=False)\n",
    "    correlation=correlation1+correlation2+correlation3\n",
    "    #print('step')\n",
    "    return correlation\n",
    "\n",
    "   "
   ]
  },
  {
   "cell_type": "code",
   "execution_count": 172,
   "id": "1f1dcbf7-b070-4fb9-9093-b5a4659546d4",
   "metadata": {},
   "outputs": [
    {
     "name": "stdout",
     "output_type": "stream",
     "text": [
      "[0.0, 0.0, 1.0]\n",
      "[0.0, 0.0, 1.0]\n",
      "[0.0, 0.0, 1.0]\n",
      "[-8.274590478674932e-51, 1.3177747429038154e-82, 1.0]\n",
      "[0.0, 0.0, 1.0]\n",
      "[0.0, 0.0, 1.0]\n",
      "[0.0, 0.0, 1.0]\n",
      "[0.0, 0.0, 1.0]\n",
      "[7.447505915230829e-50, 2.5246406103036556e-67, 1.0]\n"
     ]
    },
    {
     "data": {
      "text/plain": [
       "array(4.95760435e-14)"
      ]
     },
     "execution_count": 172,
     "metadata": {},
     "output_type": "execute_result"
    }
   ],
   "source": [
    "E_S, psi_S = np.linalg.eig(Kitaev_H(alpha=np.pi, Js = [1.,1.,1.],J_coup = 0.0 ).toarray()) ### eigh tiene problmes\n",
    "#E_S, psi_S = Kitaev_H(alpha=np.pi, Js = [0.,0.,1.],J_coup = 0.0 ).eigh()#eigsh(k=1,which=\"SA\",maxiter=1E4)#.eigh()\n",
    "#psi_S = eigen(Kf.Kitaev_H(alpha=pi, Js = [0.,1.,0.],J_coup = 0.0 ).toarray() ).vectors\n",
    "#Kf.Kitaev_H(alpha=pi, Js = [0.,0.,1.],J_coup = 0.0 ).eigh()#.eigsh(k=30,which=\"SA\",maxiter=1E8)\n",
    "#np.linalg.eigh(Kf.Kitaev_H(alpha=pi, Js = [0.,1.,0.],J_coup = 0.0 ).toarray())\n",
    "##.eigh()#.eigsh(k=1,which=\"SA\",maxiter=1E4)#.eigh()#.eigsh(k = 1,which = \"SA\")#.eigh()#.eigsh(k = 1,which = \"SA\") #.eigh()#.eigsh(which = \"SA\")#\n",
    "psi_GS = psi_S[:,0] \n",
    "#Kf.basis.ent_entropy(psi_GS ,sub_sys_A=A,alpha=1)[\"Sent_A\"][1]\n",
    "A=[0,1,2,3,4]\n",
    "ssden = []\n",
    "for i in range(9):\n",
    "    S_z = spin_op_z(sites = i).expt_value(V = psi_GS).real#.toarray()\n",
    "    S_x = spin_op_x(sites = i).expt_value(V = psi_GS).real#.toarray()\n",
    "    S_y = spin_op_y(sites = i).expt_value(V = psi_GS).real#.toarray()\n",
    "    #S_eq.append([np.real(S_x_v), np.real(S_y_v), np.real(S_z_v)])\n",
    "    ssden.append( [S_x,S_y,S_z] ) \n",
    "    print([S_x,S_y,S_z]  )\n",
    "#### Check if the GS is FM\n",
    "ennt= basis.ent_entropy(psi_GS ,sub_sys_A=A,alpha=1,density=True)[\"Sent_A\"]#[0]\n",
    "ennt"
   ]
  },
  {
   "cell_type": "code",
   "execution_count": 143,
   "id": "c12e873d-d7f8-435d-afd8-b89d6786a1a0",
   "metadata": {},
   "outputs": [],
   "source": [
    "#np.linalg.norm(psi_GS)\n",
    "\n",
    "# E_S, psi_S = Kitaev_H(alpha=1.).eigh()#.eigsh(which = \"SA\")#.eigsh(k = 1,which = \"SA\") \n",
    "# psi_GS = psi_S[:,1] ;\n",
    "\n",
    "# spindensity_qsl(psi=psi_GS)#[1,:]\n",
    "#Kitaev_H(alpha=np.pi, Js = [1.,1.,1.],J_coup = 0.0 ).toarray()"
   ]
  },
  {
   "cell_type": "code",
   "execution_count": null,
   "id": "b1ecc493-aa3f-4a46-ad5f-42fa36b0afad",
   "metadata": {},
   "outputs": [],
   "source": []
  },
  {
   "cell_type": "code",
   "execution_count": 24,
   "id": "9f3da5a3-cfbb-41a2-9f07-2f4126a8d20a",
   "metadata": {},
   "outputs": [],
   "source": [
    "# site1 = 0\n",
    "# dynamic = []\n",
    "# sigma = [['z', [[1.0, site1]]] ]\n",
    "# sx = hamiltonian(sigma,dynamic,dtype=np.complex128,basis=basis,**no_checks)"
   ]
  },
  {
   "cell_type": "code",
   "execution_count": 16,
   "id": "10b1c5fd-0452-422f-bef6-82cbced660c3",
   "metadata": {},
   "outputs": [
    {
     "name": "stdout",
     "output_type": "stream",
     "text": [
      "Hermiticity check passed!\n",
      "Symmetry checks passed!\n"
     ]
    },
    {
     "data": {
      "text/plain": [
       "array(0.12730283)"
      ]
     },
     "execution_count": 16,
     "metadata": {},
     "output_type": "execute_result"
    }
   ],
   "source": [
    "# # Define parameters\n",
    "# L = 6  # Number of spins\n",
    "# J = 1.0  # Exchange coupling constant\n",
    "\n",
    "# # Create spin basis\n",
    "# basis = spin_basis_general(L,pauli=0)\n",
    "\n",
    "# # Define Heisenberg Hamiltonian\n",
    "# J_matrix = [[J, i, (i + 1) % L] for i in range(L)]\n",
    "# static = [[\"xx\", J_matrix], [\"yy\", J_matrix], [\"zz\", J_matrix]]\n",
    "# H = hamiltonian(static, [], basis=basis, dtype=np.float64)\n",
    "\n",
    "# # Diagonalize the Hamiltonian\n",
    "# E, psi = H.eigh()\n",
    "# A=[0,1,2,3,4]\n",
    "# #print(\"Eigenenergies:\", E)\n",
    "# basis.ent_entropy(psi[1,:] ,sub_sys_A=A,alpha=1)[\"Sent_A\"]#[1]"
   ]
  },
  {
   "cell_type": "code",
   "execution_count": 15,
   "id": "d44bc5ec-435a-4292-97cb-1af3f257a215",
   "metadata": {},
   "outputs": [
    {
     "data": {
      "text/plain": [
       "array([ 0.00000000e+00,  0.00000000e+00, -4.75857457e-16, -1.12837010e-01,\n",
       "        5.58448221e-16,  2.95411127e-01, -1.12837010e-01,  4.28121595e-05,\n",
       "        1.38777878e-17, -3.65148234e-01,  2.95411127e-01, -1.12083689e-04,\n",
       "       -1.12837010e-01, -1.12083689e-04,  4.28121595e-05,  2.64913776e-07,\n",
       "       -5.82231105e-16,  2.95411127e-01, -3.65148234e-01, -1.12083689e-04,\n",
       "        2.95411127e-01,  5.44065654e-04, -1.12083689e-04, -6.93553269e-07,\n",
       "       -1.12837010e-01, -1.12083689e-04, -1.12083689e-04,  8.57278986e-07,\n",
       "        4.28121595e-05, -6.93553269e-07,  2.64913776e-07,  0.00000000e+00,\n",
       "        4.75857457e-16, -1.12837010e-01,  2.95411127e-01,  4.28121595e-05,\n",
       "       -3.65148234e-01, -1.12083689e-04, -1.12083689e-04,  2.64913776e-07,\n",
       "        2.95411127e-01, -1.12083689e-04,  5.44065654e-04, -6.93553269e-07,\n",
       "       -1.12083689e-04,  8.57278986e-07, -6.93553269e-07, -1.72313225e-26,\n",
       "       -1.12837010e-01,  4.28121595e-05, -1.12083689e-04,  2.64913776e-07,\n",
       "       -1.12083689e-04, -6.93553269e-07,  8.57278986e-07,  3.54950624e-27,\n",
       "        4.28121595e-05,  2.64913776e-07, -6.93553269e-07, -1.35426202e-27,\n",
       "        2.64913776e-07,  3.54176915e-27, -1.71908244e-26,  0.00000000e+00])"
      ]
     },
     "execution_count": 15,
     "metadata": {},
     "output_type": "execute_result"
    }
   ],
   "source": [
    "#psi[:,1]"
   ]
  },
  {
   "cell_type": "code",
   "execution_count": null,
   "id": "09c23e47-b403-402f-9f65-1cb55df43631",
   "metadata": {},
   "outputs": [],
   "source": []
  }
 ],
 "metadata": {
  "kernelspec": {
   "display_name": "Python 3 (ipykernel)",
   "language": "python",
   "name": "python3"
  },
  "language_info": {
   "codemirror_mode": {
    "name": "ipython",
    "version": 3
   },
   "file_extension": ".py",
   "mimetype": "text/x-python",
   "name": "python",
   "nbconvert_exporter": "python",
   "pygments_lexer": "ipython3",
   "version": "3.9.16"
  }
 },
 "nbformat": 4,
 "nbformat_minor": 5
}
