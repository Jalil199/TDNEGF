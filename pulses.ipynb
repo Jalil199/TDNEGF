{
 "cells": [
  {
   "cell_type": "code",
   "execution_count": 2,
   "id": "dd73f543-bb65-466f-a7ad-4370a85593fb",
   "metadata": {},
   "outputs": [],
   "source": [
    "import numpy as np\n",
    "import matplotlib.pyplot as plt\n",
    "import sys\n",
    "offset = 50\n",
    "from matplotlib import rcParams\n",
    "from matplotlib.ticker import (MultipleLocator, AutoMinorLocator)\n",
    "rcParams['axes.linewidth']=2\n",
    "rcParams['text.usetex']=True#True\n",
    "path = \"/home/jalil/Projects2023/TDNEGF/TDNEGF/data/\""
   ]
  },
  {
   "cell_type": "code",
   "execution_count": 3,
   "id": "3ef6f8b9-8d93-4a77-a01f-5eb6eb313001",
   "metadata": {},
   "outputs": [],
   "source": [
    "def rectangle(v, a):\n",
    "        profile = []\n",
    "        for i in range(400):\n",
    "                if i>offset and i<(offset+a):\n",
    "                        profile.append([v, 0.0])\n",
    "                else: profile.append([0.0, 0.0])\n",
    "        np.savetxt(\"vtd.txt\", np.array(profile))\n",
    "        return np.array(profile)\n",
    "def delayBias(v, a):\n",
    "        profile = []\n",
    "        for i in range(1000):\n",
    "                if  i>a/0.1:\n",
    "                        profile.append([v/2, -v/2])\n",
    "                else: profile.append([0.0, 0.0])\n",
    "        np.savetxt(\"vtd.txt\", np.array(profile))\n",
    "        return np.array(profile)\n",
    "def triangle(v, a):\n",
    "    profile = []\n",
    "    for i in range(400):\n",
    "        if i>offset and i<(offset+a):\n",
    "            h = 1-2*abs(i-offset-a/2)/a\n",
    "            profile.append([v*h, 0.0])\n",
    "        else: profile.append([0.0, 0.0])\n",
    "    np.savetxt(\"vtd.txt\", np.array(profile))\n",
    "    return np.array(profile)\n",
    "def leviton(v, a):\n",
    "    profile = []\n",
    "    for i in range(5001):\n",
    "        if i<(30*a):\n",
    "            h = 2*0.658212*a/((i-15*a)*(i-15*a)+a*a)\n",
    "            profile.append([0.0, v*h])\n",
    "        else: profile.append([0.0, 0.0])\n",
    "    np.savetxt(\"vtd.txt\", np.array(profile))\n",
    "    return np.array(profile)\n",
    "def beam(v, a):\n",
    "        profile = []\n",
    "        for i in range(4000):\n",
    "                profile.append([v, 0.0])\n",
    "        np.savetxt(\"vtd.txt\", np.array(profile))\n",
    "        return np.array(profile)\n",
    "def smBeam(v, a):\n",
    "        profile = []\n",
    "        for i in range(4000):\n",
    "                profile.append([np.tanh((i-6*a)/(2.5*a))+1, 0.0])\n",
    "        np.savetxt(\"vtd.txt\", v*np.array(profile))\n",
    "        return v*np.array(profile)\n",
    "def smBias(v, a):\n",
    "        profile = []\n",
    "        for i in range(2000):\n",
    "                profile.append([0.5*np.tanh((i-6*a)/(2.5*a))+0.5, -0.5*np.tanh((i-6*a)/(2.5*a))-0.5])\n",
    "        np.savetxt(\"vtd.txt\", v*0.5*np.array(profile))\n",
    "        return v*0.5*np.array(profile)"
   ]
  },
  {
   "cell_type": "code",
   "execution_count": 4,
   "id": "e650fa39-b49f-48c3-a75d-73db21cce214",
   "metadata": {},
   "outputs": [],
   "source": [
    "#funcDir = {\"rect\":rectangle, \"tri\":triangle, \"levi\":leviton, \"beam\":beam, \"smBeam\":smBeam, \"smBias\":smBias, \"delayBias\":delayBias}\n",
    "#funcDir[sys.argv[1]](float(sys.argv[2]), float(sys.argv[3]))\n",
    "\n",
    "#50/0.1"
   ]
  },
  {
   "cell_type": "code",
   "execution_count": 6,
   "id": "4ffc3e04-23f0-4308-b623-e3ef56152a0d",
   "metadata": {},
   "outputs": [
    {
     "data": {
      "text/plain": [
       "(-0.05500000000000001, 0.05500000000000001)"
      ]
     },
     "execution_count": 6,
     "metadata": {},
     "output_type": "execute_result"
    },
    {
     "data": {
      "image/png": "[encoded data removed]",
      "text/plain": [
       "<Figure size 640x480 with 1 Axes>"
      ]
     },
     "metadata": {},
     "output_type": "display_data"
    }
   ],
   "source": [
    "#plt.plot(rectangle(1,200)[:,0])\n",
    "#plt.plot(delayBias(10,10))\n",
    "#plt.plot(triangle(10,10))\n",
    "#plt.plot(leviton(500,90)) ##### first index is the height and the second index is the lenght\n",
    "#plt.plot(beam(50,10))\n",
    "#plt.plot(smBeam(100,100))\n",
    "plt.ylabel(r\"$V_b\\ \\rm{(eV)}$\",fontsize=20)\n",
    "plt.xlabel(r\"$\\rm{Time\\ step (dt=0.1\\ fs)}$\",fontsize=20)\n",
    "plt.plot(smBias(0.1,30))\n",
    "#plt.plot(leviton(0.02,100))\n",
    "# plt.plot(leviton(1.0,200))\n",
    "plt.tick_params(labelsize=20)\n",
    "plt.legend([\"Left Lead\",\"Right Lead\"], frameon =False,fontsize=20)\n",
    "plt.ylim()"
   ]
  },
  {
   "cell_type": "code",
   "execution_count": null,
   "id": "40faebbe-6734-41f9-9f45-a9efc2826d1f",
   "metadata": {},
   "outputs": [],
   "source": []
  }
 ],
 "metadata": {
  "kernelspec": {
   "display_name": "Python 3 (ipykernel)",
   "language": "python",
   "name": "python3"
  },
  "language_info": {
   "codemirror_mode": {
    "name": "ipython",
    "version": 3
   },
   "file_extension": ".py",
   "mimetype": "text/x-python",
   "name": "python",
   "nbconvert_exporter": "python",
   "pygments_lexer": "ipython3",
   "version": "3.9.16"
  }
 },
 "nbformat": 4,
 "nbformat_minor": 5
}
